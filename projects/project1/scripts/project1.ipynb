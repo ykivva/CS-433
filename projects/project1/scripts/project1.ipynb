{
 "cells": [
  {
   "cell_type": "code",
   "execution_count": 1,
   "metadata": {},
   "outputs": [],
   "source": [
    "# Useful starting lines\n",
    "%matplotlib inline\n",
    "import numpy as np\n",
    "import matplotlib.pyplot as plt\n",
    "import os\n",
    "import pandas as pd\n",
    "%load_ext autoreload\n",
    "%autoreload 2"
   ]
  },
  {
   "cell_type": "markdown",
   "metadata": {},
   "source": [
    "## Load the training data into feature matrix, class labels, and event ids:"
   ]
  },
  {
   "cell_type": "code",
   "execution_count": 2,
   "metadata": {},
   "outputs": [],
   "source": [
    "from proj1_helpers import *\n",
    "DATA_TRAIN_PATH = os.path.join(os.getcwd(), '../data/train.csv')\n",
    "y, tX, ids = load_csv_data(DATA_TRAIN_PATH)"
   ]
  },
  {
   "cell_type": "markdown",
   "metadata": {},
   "source": [
    "## Our CRAZY machine learning thing :) ..."
   ]
  },
  {
   "cell_type": "code",
   "execution_count": 3,
   "metadata": {},
   "outputs": [],
   "source": [
    "from nn_model import NNModel\n",
    "from preprocessing import *\n",
    "from nn_model import *"
   ]
  },
  {
   "cell_type": "code",
   "execution_count": 4,
   "metadata": {},
   "outputs": [],
   "source": [
    "y[y==-1] = 0\n",
    "y = y.astype(np.int)\n",
    "tX[tX==-999] = np.nan\n",
    "\n",
    "#Delete rows from tX and y, which has more than 8 nan values in tX and 0 label in y\n",
    "# num_nan_in_row = np.isnan(tX).sum(axis=1)\n",
    "# mask = (y==0) & (num_nan_in_row>8)\n",
    "# y = y[~mask]\n",
    "# tX = tX[~mask]\n",
    "\n",
    "pos_zero = np.argwhere(y==0).squeeze()\n",
    "num_delete = (y==0).sum() - (y==1).sum()\n",
    "pos_delete = np.random.choice(pos_zero, replace=False, size=num_delete)\n",
    "y_train = np.delete(y, pos_delete)\n",
    "x_train = np.delete(tX, pos_delete, axis=0)\n",
    "\n",
    "shuffle = np.arange(y_train.shape[0])\n",
    "np.random.shuffle(shuffle)\n",
    "\n",
    "y_train = y_train[shuffle]\n",
    "x_train = x_train[shuffle]"
   ]
  },
  {
   "cell_type": "code",
   "execution_count": 5,
   "metadata": {},
   "outputs": [],
   "source": [
    "def cross_validation(tX, y, k=5, \n",
    "                     lr=0.01, lambda_=10, \n",
    "                     epochs=10, batch_size=128,\n",
    "                     momentum=0.9, verbose=1):\n",
    "    k_folds = np.array_split(np.arange(y.shape[0]), axis=0, indices_or_sections=k)\n",
    "    accuracy = np.zeros(k)\n",
    "    i = 0\n",
    "    print(\"Cross-validation started!\")\n",
    "    for k_fold in k_folds:\n",
    "        train_mask = ~np.isin(np.arange(y.shape[0]), k_fold)\n",
    "        w_init = np.random.randn(1, tX.shape[1]+1)\n",
    "        \n",
    "        x_train = tX[train_mask]\n",
    "        y_train = y[train_mask]\n",
    "        x_val = tX[~train_mask]\n",
    "        y_val = y[~train_mask]\n",
    "        batch_size_ = min(batch_size, x_train.shape[0])\n",
    "        \n",
    "        model = NNModel(x_train.shape[1])\n",
    "        model.add_layer(1)\n",
    "        model.train(x_train, y_train,\n",
    "                    lr=lr, lambda_=lambda_,\n",
    "                    batch_size=batch_size,\n",
    "                    epochs=epochs, verbose=verbose,\n",
    "                    loss_fun='logistic_reg', momentum=momentum)\n",
    "        \n",
    "        y_pred = model.predict(x_val)\n",
    "        y_pred = y_pred > 0\n",
    "        y_pred = y_pred.squeeze()\n",
    "        accuracy[i] = (y_pred==y_val).mean()\n",
    "        i += 1\n",
    "    accuracy_avg = accuracy.mean()\n",
    "    return accuracy_avg\n",
    "        \n",
    "\n",
    "def hyperparamters_tunning(tX, y,\n",
    "                           use_transformations,\n",
    "                           handling_outliers,\n",
    "                           transform_inplace,\n",
    "                           max_degrees,\n",
    "                           lrs, lambdas,\n",
    "                           momentum,\n",
    "                           batch_size,\n",
    "                           epochs, k=5):\n",
    "    best = {\n",
    "        \"transformation\": None,\n",
    "        \"handling_outlier\": None,\n",
    "        \"max_degree\": None,\n",
    "        \"accuracy\": 0,\n",
    "        \"lr\": None,\n",
    "        \"lambda\": None,\n",
    "    }\n",
    "    for use_transformation in use_transformations:\n",
    "        for handling_outlier in handling_outliers:\n",
    "            for max_degree in max_degrees:\n",
    "                for lr in lrs:\n",
    "                    for lambda_ in lambdas:\n",
    "                        preprocessing = Preprocessing(\n",
    "                            use_transformations=use_transformation,\n",
    "                            handling_outliers=handling_outlier,\n",
    "                            max_degree=max_degree\n",
    "                        )\n",
    "                        \n",
    "                        tX_preprocessed = preprocessing.preprocess(data_=tX,\n",
    "                                                                   transform_inplace=transform_inplace)\n",
    "                        accuracy = cross_validation(tX_preprocessed, y,\n",
    "                                                    k=k, lr=lr, lambda_=lambda_,\n",
    "                                                    epochs=epochs,\n",
    "                                                    batch_size=batch_size,\n",
    "                                                    momentum=momentum\n",
    "                                                   )\n",
    "                        if best['accuracy'] < accuracy:\n",
    "                            print(\"Best is updated with accuracy:\", accuracy)\n",
    "                            best[\"transformation\"] = use_transformation\n",
    "                            best[\"handling_outlier\"] = handling_outlier\n",
    "                            best[\"max_degree\"] = max_degree\n",
    "                            best[\"accuracy\"] = accuracy\n",
    "                            best[\"lambda\"] = lambda_\n",
    "                            best[\"lr\"] = lr\n",
    "    return best"
   ]
  },
  {
   "cell_type": "code",
   "execution_count": 12,
   "metadata": {},
   "outputs": [
    {
     "name": "stdout",
     "output_type": "stream",
     "text": [
      "(250000, 30)\n",
      "0\n",
      "1\n",
      "2\n",
      "3\n",
      "4\n",
      "5\n",
      "8\n",
      "9\n",
      "10\n",
      "13\n",
      "16\n",
      "19\n",
      "21\n",
      "23\n"
     ]
    },
    {
     "name": "stderr",
     "output_type": "stream",
     "text": [
      "/home/ykivva/yaroslav/education/epfl/CS-433/projects/project1/scripts/preprocessing.py:29: RuntimeWarning: invalid value encountered in log\n",
      "  13: lambda x: np.log(x-19),\n",
      "/home/ykivva/yaroslav/education/epfl/CS-433/projects/project1/scripts/preprocessing.py:30: RuntimeWarning: invalid value encountered in log\n",
      "  16: lambda x: np.log(x-25),\n",
      "/home/ykivva/yaroslav/education/epfl/CS-433/projects/project1/scripts/preprocessing.py:114: RuntimeWarning: divide by zero encountered in log\n",
      "  self.cols_with_outliers += 1\n",
      "/home/ykivva/yaroslav/education/epfl/CS-433/projects/project1/scripts/preprocessing.py:33: RuntimeWarning: invalid value encountered in log\n",
      "  23: lambda x: np.log(x-29),\n",
      "/home/ykivva/yaroslav/education/epfl/CS-433/projects/project1/scripts/preprocessing.py:34: RuntimeWarning: invalid value encountered in log\n",
      "  26: lambda x: np.log(x-29)\n"
     ]
    },
    {
     "name": "stdout",
     "output_type": "stream",
     "text": [
      "26\n",
      "(250000, 45)\n"
     ]
    },
    {
     "name": "stderr",
     "output_type": "stream",
     "text": [
      "/home/ykivva/yaroslav/education/epfl/CS-433/projects/project1/scripts/preprocessing.py:77: RuntimeWarning: Mean of empty slice\n",
      "  self.means = np.nanmean(data[:,:self.numerical_features], axis=0)\n",
      "/home/ykivva/yaroslav/education/epfl/CS-433/projects/project1/scripts/preprocessing.py:100: RuntimeWarning: invalid value encountered in subtract\n",
      "  data[:,:self.numerical_features] = (data[:,:self.numerical_features]-self.means)/self.stds\n"
     ]
    },
    {
     "name": "stdout",
     "output_type": "stream",
     "text": [
      "Cross-validation started!\n",
      "Training started\n",
      ">Epoch #10:\t[####################]; Loss: 0.4284662494399946\n",
      "Training ended\n",
      "\n",
      "Training started\n",
      ">Epoch #10:\t[####################]; Loss: 0.4300452012851337\n",
      "Training ended\n",
      "\n",
      "Training started\n",
      ">Epoch #10:\t[####################]; Loss: 0.4316476272054042\n",
      "Training ended\n",
      "\n",
      "Training started\n",
      ">Epoch #10:\t[####################]; Loss: 0.4292616638111032\n",
      "Training ended\n",
      "\n",
      "Training started\n",
      ">Epoch #10:\t[####################]; Loss: 0.4302265990529567\n",
      "Training ended\n",
      "\n",
      "Best is updated with accuracy: 0.8071999999999999\n"
     ]
    }
   ],
   "source": [
    "use_transformations = [True]\n",
    "handling_outliers = ['fill_mean']\n",
    "use_poly_augmentation = True\n",
    "max_degrees = [2]\n",
    "lrs = [1]\n",
    "transform_inplace = False\n",
    "lambdas = [0]\n",
    "batch_size = 64\n",
    "epochs = 10\n",
    "momentum = 0.9\n",
    "best = hyperparamters_tunning(tX, y,\n",
    "                              use_transformations,\n",
    "                              handling_outliers,\n",
    "                              transform_inplace,\n",
    "                              max_degrees,\n",
    "                              lrs, lambdas,\n",
    "                              momentum,\n",
    "                              batch_size, epochs, k=5)"
   ]
  },
  {
   "cell_type": "code",
   "execution_count": 7,
   "metadata": {},
   "outputs": [
    {
     "name": "stdout",
     "output_type": "stream",
     "text": [
      "Training started\n",
      ">Epoch #10:\t[####################]; Loss: 0.4299480352565133\n",
      "Training ended\n",
      "\n"
     ]
    }
   ],
   "source": [
    "use_transformation = best[\"transformation\"]\n",
    "handling_outlier = best[\"handling_outlier\"]\n",
    "max_degree = best[\"max_degree\"]\n",
    "accuracy = best[\"accuracy\"]\n",
    "lambda_ = best[\"lambda\"]\n",
    "lr = best[\"lr\"]\n",
    "verbose = 1\n",
    "batch_size = 64\n",
    "epochs = 10\n",
    "momentum = 0.9\n",
    "transform_inplace = False\n",
    "preprocessing = Preprocessing(use_transformations=use_transformation,\n",
    "                              handling_outliers=handling_outlier,\n",
    "                              max_degree=max_degree)\n",
    "                        \n",
    "tX_preprocessed = preprocessing.preprocess(data_=tX, transform_inplace=transform_inplace)\n",
    "model = NNModel(tX_preprocessed.shape[1])\n",
    "model.add_layer(1)\n",
    "model.train(tX_preprocessed, y,\n",
    "            lr=lr, lambda_=lambda_,\n",
    "            batch_size=batch_size,\n",
    "            epochs=epochs, verbose=verbose,\n",
    "            loss_fun='logistic_reg', momentum=momentum)"
   ]
  },
  {
   "cell_type": "code",
   "execution_count": 8,
   "metadata": {},
   "outputs": [
    {
     "data": {
      "text/plain": [
       "0.807296"
      ]
     },
     "execution_count": 8,
     "metadata": {},
     "output_type": "execute_result"
    }
   ],
   "source": [
    "y_pred = model.predict(tX_preprocessed)\n",
    "y_pred = y_pred > 0\n",
    "y_pred = y_pred.squeeze()\n",
    "(y_pred==y).mean()"
   ]
  },
  {
   "cell_type": "code",
   "execution_count": 9,
   "metadata": {},
   "outputs": [
    {
     "data": {
      "text/plain": [
       "(1, 81)"
      ]
     },
     "execution_count": 9,
     "metadata": {},
     "output_type": "execute_result"
    }
   ],
   "source": [
    "model.parameters['W1'].shape"
   ]
  },
  {
   "cell_type": "code",
   "execution_count": 10,
   "metadata": {},
   "outputs": [
    {
     "data": {
      "text/plain": [
       "39"
      ]
     },
     "execution_count": 10,
     "metadata": {},
     "output_type": "execute_result"
    }
   ],
   "source": [
    "np.sum(model.parameters['W1']>0.0001)"
   ]
  },
  {
   "cell_type": "code",
   "execution_count": 11,
   "metadata": {},
   "outputs": [
    {
     "name": "stdout",
     "output_type": "stream",
     "text": [
      "use_transformations: [True]\n",
      "handling_outliers: ['fill_mean']\n",
      "transform_inplace: False\n",
      "max_degree: 2\n",
      "lambda_: 0\n",
      "lr: 1\n",
      "batch_size: 64\n",
      "epochs: 10\n",
      "momentum: 0.9\n",
      "\n"
     ]
    }
   ],
   "source": [
    "print_parameters = (f'use_transformations: {use_transformations}\\n'\n",
    "                    + f'handling_outliers: {handling_outliers}\\n'\n",
    "                    + f'transform_inplace: {transform_inplace}\\n'\n",
    "                    + f'max_degree: {max_degree}\\n'\n",
    "                    + f'lambda_: {lambda_}\\n'\n",
    "                    + f'lr: {lr}\\n'\n",
    "                    + f'batch_size: {batch_size}\\n'\n",
    "                    + f'epochs: {epochs}\\n'\n",
    "                    + f'momentum: {momentum}\\n')\n",
    "print(print_parameters)"
   ]
  },
  {
   "cell_type": "markdown",
   "metadata": {},
   "source": [
    "## Generate predictions and save ouput in csv format for submission:"
   ]
  },
  {
   "cell_type": "code",
   "execution_count": null,
   "metadata": {},
   "outputs": [],
   "source": [
    "DATA_TEST_PATH = DATA_TRAIN_PATH = os.path.join(os.getcwd(), '../data/test.csv')\n",
    "_, tX_test, ids_test = load_csv_data(DATA_TEST_PATH)"
   ]
  },
  {
   "cell_type": "code",
   "execution_count": null,
   "metadata": {},
   "outputs": [],
   "source": [
    "x_test = preprocessing.preprocess(data_=tX_test, transform_inplace=False)\n",
    "\n",
    "OUTPUT_PATH = 'prediction.csv' # TODO: fill in desired name of output file for submission\n",
    "y_pred = model.predict(x_test)\n",
    "res = y_pred>0.5\n",
    "res = res.squeeze()\n",
    "pred = -np.ones(res.shape)\n",
    "pred[res] = 1\n",
    "create_csv_submission(ids_test, pred, OUTPUT_PATH)"
   ]
  },
  {
   "cell_type": "code",
   "execution_count": null,
   "metadata": {},
   "outputs": [],
   "source": []
  }
 ],
 "metadata": {
  "anaconda-cloud": {},
  "kernelspec": {
   "display_name": "Python 3",
   "language": "python",
   "name": "python3"
  },
  "language_info": {
   "codemirror_mode": {
    "name": "ipython",
    "version": 3
   },
   "file_extension": ".py",
   "mimetype": "text/x-python",
   "name": "python",
   "nbconvert_exporter": "python",
   "pygments_lexer": "ipython3",
   "version": "3.7.7"
  }
 },
 "nbformat": 4,
 "nbformat_minor": 1
}
