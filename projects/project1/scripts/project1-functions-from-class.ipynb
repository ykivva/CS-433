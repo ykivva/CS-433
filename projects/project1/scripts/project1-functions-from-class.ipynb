{
 "cells": [
  {
   "cell_type": "code",
   "execution_count": 1,
   "metadata": {},
   "outputs": [],
   "source": [
    "# Useful starting lines\n",
    "%matplotlib inline\n",
    "import numpy as np\n",
    "import matplotlib.pyplot as plt\n",
    "import os\n",
    "import pandas as pd\n",
    "%load_ext autoreload\n",
    "%autoreload 2"
   ]
  },
  {
   "cell_type": "markdown",
   "metadata": {},
   "source": [
    "## Load the training data into feature matrix, class labels, and event ids:"
   ]
  },
  {
   "cell_type": "code",
   "execution_count": 2,
   "metadata": {},
   "outputs": [],
   "source": [
    "from proj1_helpers import *\n",
    "DATA_TRAIN_PATH = os.path.join(os.getcwd(), '../data/train.csv')\n",
    "y, tX, ids = load_csv_data(DATA_TRAIN_PATH)"
   ]
  },
  {
   "cell_type": "markdown",
   "metadata": {},
   "source": [
    "## Our CRAZY machine learning thing :) ..."
   ]
  },
  {
   "cell_type": "code",
   "execution_count": 6,
   "metadata": {},
   "outputs": [],
   "source": [
    "from preprocessing import *\n",
    "from logistic_regression import *\n",
    "import pandas as pd"
   ]
  },
  {
   "cell_type": "code",
   "execution_count": null,
   "metadata": {},
   "outputs": [],
   "source": [
    "def cross_validation(tX, y, k=5, \n",
    "                     gamma=0.01, lambda_=10 \n",
    "                     max_iter=5000, batch_size=128):\n",
    "    k_folds = np.split(np.arange(y.shape[0]), axis=0, indeces_or_sections=k)\n",
    "    accuracy = np.zeros(k)\n",
    "    i = 0\n",
    "    for k_fold in k_folds:\n",
    "        train_mask = ~np.isin(np.arange(y.shape[0]), k_fold)\n",
    "        w_init = np.random.randn(tX.shape[0], 1)\n",
    "        \n",
    "        x_train = tX[train_mask]\n",
    "        y_train = y[train_mask]\n",
    "        x_val = tX[~train_mask]\n",
    "        y_val = y[~train_mask]\n",
    "        \n",
    "        w, loss = logistic_regression_reg(y=y_train, tx=x_train,\n",
    "                                          initial_w=w_init,\n",
    "                                          max_iter=max_iter, lambda_=lambda_,\n",
    "                                          gamma=gamma, batch_size=batch_size)\n",
    "        y_pred = logistic_pred(x_val, w)\n",
    "        accuracy[i] = (y_pred==y_val).mean()\n",
    "    accuracy_avg = accuracy.mean()\n",
    "    return accuracy_avg\n",
    "        \n",
    "\n",
    "def hyperparamters_tunning(tX, y,\n",
    "                           use_transformations, handling_outliers, degrees,\n",
    "                           lrs, lambdas, epochs, batch_size, max_iter, k=5):\n",
    "    best = {\n",
    "        \"transformation\": None,\n",
    "        \"handling_outlier\": None,\n",
    "        \"degree\": None,\n",
    "        \"accuracy\": 0,\n",
    "        \"lr\": None,\n",
    "        \"lambda\": None,\n",
    "    }\n",
    "    for use_transformation in use_transforamtions:\n",
    "        for handling_outlier in handling_outliers:\n",
    "            for degree in degrees:\n",
    "                for lr in lrs:\n",
    "                    for lambda_ in lambdas:\n",
    "                        preprocessing = Preprocessing(\n",
    "                            use_transformations=use_transfor,\n",
    "                            handling_outliers=handling_outlier,\n",
    "                            degrees=degree\n",
    "                        )\n",
    "                        \n",
    "                        tX_preprocessed = preprocessing.preprocess(data_=tX)\n",
    "                        accuracy = cross_validation(tX, y, k=k,\n",
    "                                                    gamma=lr, lambda_=lambda_,\n",
    "                                                    max_iter=max_iter, batch_size=batch_size)\n",
    "                        if best['accuracy'] < accuracy:\n",
    "                            print(\"Best is updated with accuracy:\", accuracy)\n",
    "                            best[\"transformation\"] = use_transformation\n",
    "                            best[\"handling_outlier\"] = handling_outlier\n",
    "                            best[\"degree\"] = degree\n",
    "                            best[\"accuracy\"] = accuracy\n",
    "                            best[\"lambda\"] = lambda_\n",
    "                            best[\"lr\"] = lr\n",
    "    return best"
   ]
  },
  {
   "cell_type": "code",
   "execution_count": 4,
   "metadata": {},
   "outputs": [],
   "source": [
    "preprocessing = Preprocessing()\n",
    "y[y==-1] = 0\n",
    "y = y.astype(np.int)\n",
    "preprocessing.replace_outliers_by_nan(tX)\n",
    "\n",
    "#Delete rows from tX and y, which has more than 8 nan values in tX and 0 label in y\n",
    "num_nan_in_row = np.isnan(tX).sum(axis=1)\n",
    "mask = (y==0) & (num_nan_in_row>8)\n",
    "y = y[~mask]\n",
    "tX = tX[~mask]"
   ]
  },
  {
   "cell_type": "code",
   "execution_count": null,
   "metadata": {},
   "outputs": [],
   "source": [
    "use_transformations = [True, False]\n",
    "handling_outliers = ['fill_mean', 'remove']\n",
    "lrs = [0.1, 0.01, 1]\n",
    "lambdas = [1, 10, 100]\n",
    "degree = np.arange(2, 5)\n",
    "\n",
    "batch_size = 128"
   ]
  },
  {
   "cell_type": "code",
   "execution_count": null,
   "metadata": {},
   "outputs": [],
   "source": [
    "best = hyperparamters_tunning(tX, y,\n",
    "                              use_transformations=, handling_outliers, degrees,\n",
    "                              lrs, lambdas, epochs, batch_size, max_iter, k=5)"
   ]
  },
  {
   "cell_type": "code",
   "execution_count": null,
   "metadata": {},
   "outputs": [],
   "source": [
    "preprocessing = Preprocessing(use_transformations=use_transfor,\n",
    "                              handling_outliers=handling_outlier,\n",
    "                              degrees=degree)\n",
    "                        \n",
    "tX_preprocessed = preprocessing.preprocess(data_=tX)\n",
    "w, loss = logistic_regression_reg(y=y_train, tx=x_train,\n",
    "                                  initial_w=w_init,\n",
    "                                  max_iter=max_iter, lambda_=lambda_,\n",
    "                                  gamma=gamma, batch_size=batch_size)\n",
    "y_pred = logistic_pred(tX, w)\n",
    "(y_pred==y).mean()"
   ]
  },
  {
   "cell_type": "markdown",
   "metadata": {},
   "source": [
    "## Generate predictions and save ouput in csv format for submission:"
   ]
  },
  {
   "cell_type": "code",
   "execution_count": 14,
   "metadata": {},
   "outputs": [],
   "source": [
    "DATA_TEST_PATH = DATA_TRAIN_PATH = os.path.join(os.getcwd(), '../data/test.csv')\n",
    "_, tX_test, ids_test = load_csv_data(DATA_TEST_PATH)"
   ]
  },
  {
   "cell_type": "code",
   "execution_count": 15,
   "metadata": {},
   "outputs": [
    {
     "name": "stdout",
     "output_type": "stream",
     "text": [
      "Preprocesing started!\n",
      "\n",
      "Preprocessing ended\n",
      "\n"
     ]
    }
   ],
   "source": [
    "preprocessing = Preprocessing(\n",
    "    use_transformations=use_transformation,\n",
    "    handling_outliers = handling_outlier,\n",
    ")\n",
    "test_data, _ = preprocessing.preprocess(\n",
    "    tX_test,\n",
    "    train=False,\n",
    "    models=models,\n",
    "    degrees=degree\n",
    ")"
   ]
  },
  {
   "cell_type": "code",
   "execution_count": 16,
   "metadata": {},
   "outputs": [],
   "source": [
    "OUTPUT_PATH = 'prediction.csv' # TODO: fill in desired name of output file for submission\n",
    "y_pred = model.predict(test_data)\n",
    "res = y_pred>0.5\n",
    "res = res.squeeze()\n",
    "pred = -np.ones(res.shape)\n",
    "pred[res] = 1\n",
    "create_csv_submission(ids_test, pred, OUTPUT_PATH)"
   ]
  },
  {
   "cell_type": "code",
   "execution_count": null,
   "metadata": {},
   "outputs": [],
   "source": []
  }
 ],
 "metadata": {
  "anaconda-cloud": {},
  "kernelspec": {
   "display_name": "Python 3",
   "language": "python",
   "name": "python3"
  },
  "language_info": {
   "codemirror_mode": {
    "name": "ipython",
    "version": 3
   },
   "file_extension": ".py",
   "mimetype": "text/x-python",
   "name": "python",
   "nbconvert_exporter": "python",
   "pygments_lexer": "ipython3",
   "version": "3.7.7"
  }
 },
 "nbformat": 4,
 "nbformat_minor": 1
}
