{
 "cells": [
  {
   "cell_type": "code",
   "execution_count": 1,
   "metadata": {},
   "outputs": [],
   "source": [
    "# Useful starting lines\n",
    "%matplotlib inline\n",
    "import numpy as np\n",
    "import matplotlib.pyplot as plt\n",
    "import os\n",
    "import pandas as pd\n",
    "%load_ext autoreload\n",
    "%autoreload 2"
   ]
  },
  {
   "cell_type": "markdown",
   "metadata": {},
   "source": [
    "## Load the training data into feature matrix, class labels, and event ids:"
   ]
  },
  {
   "cell_type": "code",
   "execution_count": 2,
   "metadata": {},
   "outputs": [],
   "source": [
    "from proj1_helpers import *\n",
    "DATA_TRAIN_PATH = os.path.join(os.getcwd(), '../data/train.csv')\n",
    "y, tX, ids = load_csv_data(DATA_TRAIN_PATH)"
   ]
  },
  {
   "cell_type": "markdown",
   "metadata": {},
   "source": [
    "## Our CRAZY machine learning thing :) ..."
   ]
  },
  {
   "cell_type": "code",
   "execution_count": 3,
   "metadata": {},
   "outputs": [],
   "source": [
    "from nn_model import NNModel\n",
    "from preprocessing import *\n",
    "from nn_model import *\n",
    "import pandas as pd"
   ]
  },
  {
   "cell_type": "code",
   "execution_count": 4,
   "metadata": {},
   "outputs": [],
   "source": [
    "preprocessing = Preprocessing()\n",
    "y[y==-1] = 0\n",
    "y = y.astype(np.int)\n",
    "preprocessing.replace_outliers_by_nan(tX)\n",
    "\n",
    "#Delete rows from tX and y, which has more than 8 nan values in tX and 0 label in y\n",
    "num_nan_in_row = np.isnan(tX).sum(axis=1)\n",
    "mask = (y==0) & (num_nan_in_row>8)\n",
    "y = y[~mask]\n",
    "tX = tX[~mask]"
   ]
  },
  {
   "cell_type": "code",
   "execution_count": 89,
   "metadata": {},
   "outputs": [],
   "source": [
    "def hyperparamters_tunning(x_train, y_train,\n",
    "                           x_val, y_val,\n",
    "                           use_transformations, handling_outliers, degrees,\n",
    "                           lrs, lambdas, epochs, batch_size):\n",
    "    best = {\n",
    "        \"models_feat\": {},\n",
    "        \"model\": None,\n",
    "        \"transformation\": None,\n",
    "        \"handling_outlier\": None,\n",
    "        \"degree\": None,\n",
    "        \"accuracy\": 0,\n",
    "        \"lr\": None,\n",
    "        \"lambda\": None,\n",
    "    }\n",
    "    models = {}\n",
    "    model = None\n",
    "    units = 1\n",
    "    activation = 'sigmoid'\n",
    "    for use_transormation in use_transformations:\n",
    "        for handling_outlier in handling_outliers:\n",
    "            for lr in lrs:\n",
    "                for lambda_ in lambdas:\n",
    "                    for degree in degrees:\n",
    "                        preprocessing = Preprocessing(\n",
    "                            use_transformations=use_transformation,\n",
    "                            handling_outliers=handling_outlier,\n",
    "                        )\n",
    "                        train_data, models = preprocessing.preprocess(\n",
    "                            x_train,\n",
    "                            lr=lr,\n",
    "                            lambda_=lambda_,\n",
    "                            batch_size=batch_size,\n",
    "                            epochs=epochs,\n",
    "                        )\n",
    "                        \n",
    "                        model = NNModel(train_data.shape[1])\n",
    "                        model.add_layer(1, activation='sigmoid')\n",
    "                        for lr in lrs:\n",
    "                            for lamda_ in lambdas:\n",
    "                                model.add_layer(units=units, activation=activation)\n",
    "                                model.train(train_data, y_train, lr=lr,\n",
    "                                            lambda_=lambda_,\n",
    "                                            batch_size=batch_size, epochs=epochs,\n",
    "                                            verbose=1)\n",
    "                                preprocessing = Preprocessing(\n",
    "                                    use_transformations=use_transformation,\n",
    "                                    handling_outliers = handling_outlier,\n",
    "                                )\n",
    "                                val_data, _ = preprocessing.preprocess(\n",
    "                                    x_val,\n",
    "                                    train=False,\n",
    "                                    models=models,\n",
    "                                    degrees=degree\n",
    "                                )\n",
    "                                \n",
    "                                y_pred = model.predict(val_data)\n",
    "                                y_pred = y_pred > 0.5\n",
    "                                y_pred = y_pred.squeeze()\n",
    "                                accuracy = (y_pred==y_val).mean()\n",
    "                                if accuracy > best[\"accuracy\"]:\n",
    "                                    print(\"Best is updated with accuracy:\", accuracy)\n",
    "                                    best[\"models_feat\"] = models\n",
    "                                    best[\"model\"] = model\n",
    "                                    best[\"transformation\"] = use_transformation\n",
    "                                    best[\"handling_outlier\"] = handling_outlier\n",
    "                                    best[\"degree\"] = degree\n",
    "                                    best[\"accuracy\"] = accuracy\n",
    "                                    best[\"lambda\"] = lambda_\n",
    "                                    best[\"lr\"] = lr\n",
    "    return best"
   ]
  },
  {
   "cell_type": "code",
   "execution_count": 90,
   "metadata": {},
   "outputs": [],
   "source": [
    "num_examples = tX.shape[0]\n",
    "val_size = 10000\n",
    "train_samples = np.random.choice(num_examples, replace=False, size=val_size)\n",
    "mask_val = np.isin(np.arange(tX.shape[0]), train_samples)\n",
    "x_val, y_val = tX[mask_val], y[mask_val]\n",
    "x_train, y_train = tX[~mask_val], y[~mask_val]"
   ]
  },
  {
   "cell_type": "code",
   "execution_count": 91,
   "metadata": {},
   "outputs": [],
   "source": [
    "use_transformation = [True, False]\n",
    "handling_outliers = ['predict', 'fill_mean', 'remove']\n",
    "lrs = [0.003, 0.01, 0.03, 0.1]\n",
    "lambdas = [0.3, 1, 10, 100]\n",
    "degrees = [np.arange(2, 4), np.arange(2, 5)]\n",
    "epochs = 1000\n",
    "batch_size = 64"
   ]
  },
  {
   "cell_type": "code",
   "execution_count": 99,
   "metadata": {},
   "outputs": [],
   "source": [
    "use_transformation = [True]\n",
    "handling_outliers = ['predict']\n",
    "lrs = [0.03]\n",
    "lambdas = [100]\n",
    "degrees = [np.arange(2, 4)]\n",
    "epochs = 10\n",
    "batch_size = 64"
   ]
  },
  {
   "cell_type": "code",
   "execution_count": 100,
   "metadata": {},
   "outputs": [
    {
     "name": "stdout",
     "output_type": "stream",
     "text": [
      "Preprocesing started!\n",
      "\n",
      "Training started\n",
      ">Epoch #10:\t[####################]; Loss: 0.4996845798801224\n",
      "Training ended\n",
      "\n",
      "Training started\n",
      ">Epoch #10:\t[####################]; Loss: 0.49442000042403716\n",
      "Training ended\n",
      "\n",
      "Training started\n",
      ">Epoch #10:\t[####################]; Loss: 0.4974290313376362\n",
      "Training ended\n",
      "\n",
      "Training started\n",
      ">Epoch #10:\t[####################]; Loss: 0.5011129731083889\n",
      "Training ended\n",
      "\n",
      "Training started\n",
      ">Epoch #10:\t[####################]; Loss: 0.4900865163739426\n",
      "Training ended\n",
      "\n",
      "Training started\n",
      ">Epoch #10:\t[####################]; Loss: 0.5001987195599065\n",
      "Training ended\n",
      "\n",
      "Training started\n",
      ">Epoch #10:\t[####################]; Loss: 0.4786226205242275\n",
      "Training ended\n",
      "\n",
      "Training started\n",
      ">Epoch #10:\t[####################]; Loss: 0.5044487361201369\n",
      "Training ended\n",
      "\n",
      "Training started\n",
      ">Epoch #10:\t[####################]; Loss: 0.5015217962625237\n",
      "Training ended\n",
      "\n",
      "Training started\n",
      ">Epoch #10:\t[####################]; Loss: 0.4829073808215396\n",
      "Training ended\n",
      "\n",
      "Training started\n",
      ">Epoch #10:\t[####################]; Loss: 0.5020702676962305\n",
      "Training ended\n",
      "\n",
      "Training started\n",
      ">Epoch #10:\t[####################]; Loss: 0.4998052113347318\n",
      "Training ended\n",
      "\n",
      "Preprocessing ended\n",
      "\n",
      "Training started\n",
      ">Epoch #10:\t[####################]; Loss: 0.12499443827165013\n",
      "Training ended\n",
      "\n",
      "Preprocesing started!\n",
      "\n",
      "Preprocessing ended\n",
      "\n",
      "Best is updated with accuracy: 0.5173\n"
     ]
    }
   ],
   "source": [
    "best = hyperparamters_tunning(x_train, y_train,\n",
    "                              x_val, y_val,\n",
    "                              use_transformations, handling_outliers, degrees,\n",
    "                              lrs, lambdas, epochs, batch_size)"
   ]
  },
  {
   "cell_type": "code",
   "execution_count": 101,
   "metadata": {},
   "outputs": [],
   "source": [
    "model = best[\"model\"]\n",
    "best[\"models_feat\"] = models\n",
    "use_transformation = best[\"transformation\"]\n",
    "handling_outlier = best[\"handling_outlier\"]\n",
    "degree = best[\"degree\"]\n",
    "accuracy = best[\"accuracy\"]\n",
    "lambda_ = best[\"lambda\"]\n",
    "lr = best[\"lr\"]"
   ]
  },
  {
   "cell_type": "code",
   "execution_count": 102,
   "metadata": {},
   "outputs": [],
   "source": [
    "pred = model.predict(train_data)"
   ]
  },
  {
   "cell_type": "code",
   "execution_count": 103,
   "metadata": {},
   "outputs": [],
   "source": [
    "res = pred>0.5"
   ]
  },
  {
   "cell_type": "code",
   "execution_count": 104,
   "metadata": {},
   "outputs": [],
   "source": [
    "res = res.squeeze()"
   ]
  },
  {
   "cell_type": "code",
   "execution_count": 105,
   "metadata": {},
   "outputs": [],
   "source": [
    "pred = np.zeros(y.shape)"
   ]
  },
  {
   "cell_type": "code",
   "execution_count": 106,
   "metadata": {},
   "outputs": [],
   "source": [
    "pred[res] = 1"
   ]
  },
  {
   "cell_type": "code",
   "execution_count": 107,
   "metadata": {},
   "outputs": [
    {
     "data": {
      "text/plain": [
       "0.5120885755130169"
      ]
     },
     "execution_count": 107,
     "metadata": {},
     "output_type": "execute_result"
    }
   ],
   "source": [
    "np.mean(pred==y)"
   ]
  },
  {
   "cell_type": "markdown",
   "metadata": {},
   "source": [
    "## Generate predictions and save ouput in csv format for submission:"
   ]
  },
  {
   "cell_type": "code",
   "execution_count": 108,
   "metadata": {},
   "outputs": [],
   "source": [
    "DATA_TEST_PATH = DATA_TRAIN_PATH = os.path.join(os.getcwd(), '../data/test.csv')\n",
    "_, tX_test, ids_test = load_csv_data(DATA_TEST_PATH)"
   ]
  },
  {
   "cell_type": "code",
   "execution_count": 109,
   "metadata": {},
   "outputs": [
    {
     "name": "stdout",
     "output_type": "stream",
     "text": [
      "Preprocesing started!\n",
      "\n",
      "Preprocessing ended\n",
      "\n"
     ]
    }
   ],
   "source": [
    "preprocessing = Preprocessing()\n",
    "test_data, models = preprocessing.preprocess(tX_test, train=False, models=models)"
   ]
  },
  {
   "cell_type": "code",
   "execution_count": 22,
   "metadata": {},
   "outputs": [],
   "source": [
    "OUTPUT_PATH = 'prediction' # TODO: fill in desired name of output file for submission\n",
    "y_pred = model.predict(test_data)\n",
    "res = y_pred>0.5\n",
    "res = res.squeeze()\n",
    "pred = -np.ones(res.shape)\n",
    "pred[res] = 1\n",
    "create_csv_submission(ids_test, pred, OUTPUT_PATH)"
   ]
  },
  {
   "cell_type": "code",
   "execution_count": null,
   "metadata": {},
   "outputs": [],
   "source": []
  }
 ],
 "metadata": {
  "anaconda-cloud": {},
  "kernelspec": {
   "display_name": "Python 3",
   "language": "python",
   "name": "python3"
  },
  "language_info": {
   "codemirror_mode": {
    "name": "ipython",
    "version": 3
   },
   "file_extension": ".py",
   "mimetype": "text/x-python",
   "name": "python",
   "nbconvert_exporter": "python",
   "pygments_lexer": "ipython3",
   "version": "3.7.7"
  }
 },
 "nbformat": 4,
 "nbformat_minor": 1
}
