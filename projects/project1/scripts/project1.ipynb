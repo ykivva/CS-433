{
 "cells": [
  {
   "cell_type": "code",
   "execution_count": 1,
   "metadata": {},
   "outputs": [],
   "source": [
    "# Useful starting lines\n",
    "%matplotlib inline\n",
    "import numpy as np\n",
    "import matplotlib.pyplot as plt\n",
    "import os\n",
    "import pandas as pd\n",
    "%load_ext autoreload\n",
    "%autoreload 2"
   ]
  },
  {
   "cell_type": "markdown",
   "metadata": {},
   "source": [
    "## Load the training data into feature matrix, class labels, and event ids:"
   ]
  },
  {
   "cell_type": "code",
   "execution_count": 2,
   "metadata": {},
   "outputs": [],
   "source": [
    "from proj1_helpers import *\n",
    "DATA_TRAIN_PATH = os.path.join(os.getcwd(), '../data/train.csv')\n",
    "y, tX, ids = load_csv_data(DATA_TRAIN_PATH)"
   ]
  },
  {
   "cell_type": "markdown",
   "metadata": {},
   "source": [
    "## Our CRAZY machine learning thing :) ..."
   ]
  },
  {
   "cell_type": "code",
   "execution_count": 3,
   "metadata": {},
   "outputs": [],
   "source": [
    "from nn_model import NNModel\n",
    "from preprocessing import *\n",
    "from nn_model import *"
   ]
  },
  {
   "cell_type": "code",
   "execution_count": 4,
   "metadata": {},
   "outputs": [],
   "source": [
    "y[y==-1] = 0\n",
    "y = y.astype(np.int)\n",
    "tX[tX==-999] = np.nan\n",
    "\n",
    "#Delete rows from tX and y, which has more than 8 nan values in tX and 0 label in y\n",
    "# num_nan_in_row = np.isnan(tX).sum(axis=1)\n",
    "# mask = (y==0) & (num_nan_in_row>8)\n",
    "# y = y[~mask]\n",
    "# tX = tX[~mask]\n",
    "\n",
    "pos_zero = np.argwhere(y==0).squeeze()\n",
    "num_delete = (y==0).sum() - (y==1).sum()\n",
    "pos_delete = np.random.choice(pos_zero, replace=False, size=num_delete)\n",
    "y_train = np.delete(y, pos_delete)\n",
    "x_train = np.delete(tX, pos_delete, axis=0)\n",
    "\n",
    "shuffle = np.arange(y_train.shape[0])\n",
    "np.random.shuffle(shuffle)\n",
    "\n",
    "y_train = y_train[shuffle]\n",
    "x_train = x_train[shuffle]"
   ]
  },
  {
   "cell_type": "code",
   "execution_count": 17,
   "metadata": {},
   "outputs": [],
   "source": [
    "def cross_validation(tX, y, k=5, \n",
    "                     lr=0.01, lambda_=10, \n",
    "                     epochs=10, batch_size=128,\n",
    "                     momentum=0.9, verbose=1):\n",
    "    k_folds = np.array_split(np.arange(y.shape[0]), axis=0, indices_or_sections=k)\n",
    "    accuracy = np.zeros(k)\n",
    "    i = 0\n",
    "    print(\"Cross-validation started!\")\n",
    "    for k_fold in k_folds:\n",
    "        train_mask = ~np.isin(np.arange(y.shape[0]), k_fold)\n",
    "        w_init = np.random.randn(1, tX.shape[1]+1)\n",
    "        \n",
    "        x_train = tX[train_mask]\n",
    "        y_train = y[train_mask]\n",
    "        x_val = tX[~train_mask]\n",
    "        y_val = y[~train_mask]\n",
    "        batch_size_ = min(batch_size, x_train.shape[0])\n",
    "        \n",
    "        model = NNModel(x_train.shape[1])\n",
    "        model.add_layer(1)\n",
    "        model.train(x_train, y_train,\n",
    "                    lr=lr, lambda_=lambda_,\n",
    "                    batch_size=batch_size,\n",
    "                    epochs=epochs, verbose=verbose,\n",
    "                    loss_fun='logistic_reg', momentum=momentum)\n",
    "        \n",
    "        y_pred = model.predict(x_val)\n",
    "        y_pred = y_pred > 0\n",
    "        y_pred = y_pred.squeeze()\n",
    "        accuracy[i] = (y_pred==y_val).mean()\n",
    "        i += 1\n",
    "    accuracy_avg = accuracy.mean()\n",
    "    return accuracy_avg\n",
    "        \n",
    "\n",
    "def hyperparamters_tunning(tX, y,\n",
    "                           use_transformations,\n",
    "                           handling_outliers,\n",
    "                           max_degrees,\n",
    "                           lrs, lambdas,\n",
    "                           momentum,\n",
    "                           batch_size,\n",
    "                           epochs, k=5):\n",
    "    best = {\n",
    "        \"transformation\": None,\n",
    "        \"handling_outlier\": None,\n",
    "        \"max_degree\": None,\n",
    "        \"accuracy\": 0,\n",
    "        \"lr\": None,\n",
    "        \"lambda\": None,\n",
    "    }\n",
    "    for use_transformation in use_transformations:\n",
    "        for handling_outlier in handling_outliers:\n",
    "            for max_degree in max_degrees:\n",
    "                for lr in lrs:\n",
    "                    for lambda_ in lambdas:\n",
    "                        preprocessing = Preprocessing(\n",
    "                            use_transformations=use_transformation,\n",
    "                            handling_outliers=handling_outlier,\n",
    "                            max_degree=max_degree\n",
    "                        )\n",
    "                        \n",
    "                        tX_preprocessed = preprocessing.preprocess(data_=tX)\n",
    "                        accuracy = cross_validation(tX_preprocessed, y,\n",
    "                                                    k=k, lr=lr, lambda_=lambda_,\n",
    "                                                    epochs=epochs,\n",
    "                                                    batch_size=batch_size,\n",
    "                                                    momentum=momentum\n",
    "                                                   )\n",
    "                        if best['accuracy'] < accuracy:\n",
    "                            print(\"Best is updated with accuracy:\", accuracy)\n",
    "                            best[\"transformation\"] = use_transformation\n",
    "                            best[\"handling_outlier\"] = handling_outlier\n",
    "                            best[\"max_degree\"] = max_degree\n",
    "                            best[\"accuracy\"] = accuracy\n",
    "                            best[\"lambda\"] = lambda_\n",
    "                            best[\"lr\"] = lr\n",
    "    return best"
   ]
  },
  {
   "cell_type": "code",
   "execution_count": null,
   "metadata": {},
   "outputs": [
    {
     "name": "stdout",
     "output_type": "stream",
     "text": [
      "Cross-validation started!\n",
      "Training started\n",
      ">Epoch #10:\t[####################]; Loss: 3429.55174153708\n",
      "Training ended\n",
      "\n",
      "Training started\n",
      ">Epoch #4:\t[########            ]; Loss: 6213.816296489762"
     ]
    }
   ],
   "source": [
    "use_transformations = [False]\n",
    "handling_outliers = ['fill_mean']\n",
    "use_poly_augmentation = True\n",
    "max_degrees = [12]\n",
    "lrs = [1]\n",
    "lambdas = [0]\n",
    "batch_size = 64\n",
    "epochs = 10\n",
    "momentum = 0.9\n",
    "best = hyperparamters_tunning(tX, y,\n",
    "                              use_transformations,\n",
    "                              handling_outliers,\n",
    "                              max_degrees,\n",
    "                              lrs, lambdas,\n",
    "                              momentum,\n",
    "                              batch_size, epochs, k=5)"
   ]
  },
  {
   "cell_type": "code",
   "execution_count": null,
   "metadata": {},
   "outputs": [],
   "source": [
    "best[\"models_feat\"] = models\n",
    "use_transformation = best[\"transformation\"]\n",
    "handling_outlier = best[\"handling_outlier\"]\n",
    "degree = best[\"degree\"]\n",
    "accuracy = best[\"accuracy\"]\n",
    "lambda_ = best[\"lambda\"]\n",
    "lr = best[\"lr\"]"
   ]
  },
  {
   "cell_type": "markdown",
   "metadata": {},
   "source": [
    "# Train model with given hyperparameters"
   ]
  },
  {
   "cell_type": "code",
   "execution_count": 8,
   "metadata": {},
   "outputs": [],
   "source": [
    "from proj1_helpers import *\n",
    "DATA_TRAIN_PATH = os.path.join(os.getcwd(), '../data/train.csv')\n",
    "y, tX, ids = load_csv_data(DATA_TRAIN_PATH)\n",
    "\n",
    "preprocessing = Preprocessing()\n",
    "y[y==-1] = 0\n",
    "y = y.astype(np.int)\n",
    "preprocessing.replace_outliers_by_nan(tX)"
   ]
  },
  {
   "cell_type": "code",
   "execution_count": 9,
   "metadata": {},
   "outputs": [],
   "source": [
    "#Delete rows from tX and y, which has more than 8 nan values in tX and 0 label in y\n",
    "num_nan_in_row = np.isnan(tX).sum(axis=1)\n",
    "mask = (y==0) & (num_nan_in_row>8)\n",
    "y = y[~mask]\n",
    "tX = tX[~mask]\n",
    "\n",
    "#Create train and validate sets\n",
    "num_examples = tX.shape[0]\n",
    "val_size = 10000\n",
    "train_samples = np.random.choice(num_examples, replace=False, size=val_size)\n",
    "mask_val = np.isin(np.arange(tX.shape[0]), train_samples)\n",
    "x_val, y_val = tX[mask_val], y[mask_val]\n",
    "x_train, y_train = tX[~mask_val], y[~mask_val]"
   ]
  },
  {
   "cell_type": "code",
   "execution_count": 10,
   "metadata": {},
   "outputs": [],
   "source": [
    "use_transformation = False\n",
    "handling_outlier = 'predict'\n",
    "lr = 0.1\n",
    "lambda_ = 100\n",
    "degree = np.arange(2, 5)\n",
    "epochs_preprocess = 10\n",
    "epochs = 50\n",
    "batch_size = 32\n",
    "units = 1\n",
    "activation = 'sigmoid'"
   ]
  },
  {
   "cell_type": "code",
   "execution_count": 12,
   "metadata": {},
   "outputs": [
    {
     "name": "stdout",
     "output_type": "stream",
     "text": [
      "Preprocesing started!\n",
      "\n",
      "[[4.35157936e-04 8.59632332e-01 1.76750908e+00 ... 0.00000000e+00\n",
      "  1.00000000e+00 0.00000000e+00]\n",
      " [1.16103275e-09 2.20675604e+04 2.55959438e+00 ... 1.00000000e+00\n",
      "  0.00000000e+00 0.00000000e+00]\n",
      " [7.17331933e-06 1.01090913e+01 2.55959438e+00 ... 1.00000000e+00\n",
      "  0.00000000e+00 0.00000000e+00]\n",
      " ...\n",
      " [2.73713058e-48 2.70517611e+00 1.98021339e-03 ... 0.00000000e+00\n",
      "  0.00000000e+00 1.00000000e+00]\n",
      " [1.51452501e-03 1.78126601e-34 1.66079947e+00 ... 0.00000000e+00\n",
      "  1.00000000e+00 0.00000000e+00]\n",
      " [5.65277906e-07 6.97495144e-22 6.98481874e-15 ... 1.00000000e+00\n",
      "  0.00000000e+00 0.00000000e+00]]\n",
      "Training started\n",
      ">Epoch #50:\t[####################]; Loss: nan\n",
      "Training ended\n",
      "\n",
      "Training started\n",
      ">Epoch #50:\t[####################]; Loss: nan\n",
      "Training ended\n",
      "\n",
      "Training started\n",
      ">Epoch #33:\t[#############       ]; Loss: nan"
     ]
    },
    {
     "ename": "KeyboardInterrupt",
     "evalue": "",
     "output_type": "error",
     "traceback": [
      "\u001b[0;31m---------------------------------------------------------------------------\u001b[0m",
      "\u001b[0;31mKeyboardInterrupt\u001b[0m                         Traceback (most recent call last)",
      "\u001b[0;32m<ipython-input-12-2ac23d1ce6e8>\u001b[0m in \u001b[0;36m<module>\u001b[0;34m\u001b[0m\n\u001b[1;32m      9\u001b[0m     \u001b[0mbatch_size\u001b[0m\u001b[0;34m=\u001b[0m\u001b[0mbatch_size\u001b[0m\u001b[0;34m,\u001b[0m\u001b[0;34m\u001b[0m\u001b[0;34m\u001b[0m\u001b[0m\n\u001b[1;32m     10\u001b[0m     \u001b[0mepochs\u001b[0m\u001b[0;34m=\u001b[0m\u001b[0mepochs\u001b[0m\u001b[0;34m,\u001b[0m\u001b[0;34m\u001b[0m\u001b[0;34m\u001b[0m\u001b[0m\n\u001b[0;32m---> 11\u001b[0;31m     \u001b[0mdegrees\u001b[0m\u001b[0;34m=\u001b[0m\u001b[0mdegree\u001b[0m\u001b[0;34m\u001b[0m\u001b[0;34m\u001b[0m\u001b[0m\n\u001b[0m\u001b[1;32m     12\u001b[0m )\n\u001b[1;32m     13\u001b[0m \u001b[0;34m\u001b[0m\u001b[0m\n",
      "\u001b[0;32m~/yaroslav/education/epfl/CS-433/projects/project1/scripts/preprocessing.py\u001b[0m in \u001b[0;36mpreprocess\u001b[0;34m(self, data_, lr, lambda_, batch_size, epochs, degrees, train, models, momentum)\u001b[0m\n\u001b[1;32m     71\u001b[0m         \u001b[0;32melif\u001b[0m \u001b[0mself\u001b[0m\u001b[0;34m.\u001b[0m\u001b[0mhandling_outliers\u001b[0m \u001b[0;34m==\u001b[0m \u001b[0;34m'predict'\u001b[0m\u001b[0;34m:\u001b[0m\u001b[0;34m\u001b[0m\u001b[0;34m\u001b[0m\u001b[0m\n\u001b[1;32m     72\u001b[0m             \u001b[0mprint\u001b[0m\u001b[0;34m(\u001b[0m\u001b[0mdata\u001b[0m\u001b[0;34m)\u001b[0m\u001b[0;34m\u001b[0m\u001b[0;34m\u001b[0m\u001b[0m\n\u001b[0;32m---> 73\u001b[0;31m             \u001b[0mdata\u001b[0m\u001b[0;34m,\u001b[0m \u001b[0mmodels\u001b[0m \u001b[0;34m=\u001b[0m \u001b[0mself\u001b[0m\u001b[0;34m.\u001b[0m\u001b[0mpredict_Nans\u001b[0m\u001b[0;34m(\u001b[0m\u001b[0mdata\u001b[0m\u001b[0;34m,\u001b[0m \u001b[0mlr\u001b[0m\u001b[0;34m=\u001b[0m\u001b[0mlr\u001b[0m\u001b[0;34m,\u001b[0m \u001b[0mlambda_\u001b[0m\u001b[0;34m=\u001b[0m\u001b[0mlambda_\u001b[0m\u001b[0;34m,\u001b[0m \u001b[0mbatch_size\u001b[0m\u001b[0;34m=\u001b[0m\u001b[0mbatch_size\u001b[0m\u001b[0;34m,\u001b[0m \u001b[0mepochs\u001b[0m\u001b[0;34m=\u001b[0m\u001b[0mepochs\u001b[0m\u001b[0;34m,\u001b[0m \u001b[0mtrain\u001b[0m\u001b[0;34m=\u001b[0m\u001b[0mtrain\u001b[0m\u001b[0;34m,\u001b[0m \u001b[0mmodels\u001b[0m\u001b[0;34m=\u001b[0m\u001b[0mmodels\u001b[0m\u001b[0;34m,\u001b[0m \u001b[0mmomentum\u001b[0m\u001b[0;34m=\u001b[0m\u001b[0mmomentum\u001b[0m\u001b[0;34m)\u001b[0m\u001b[0;34m\u001b[0m\u001b[0;34m\u001b[0m\u001b[0m\n\u001b[0m\u001b[1;32m     74\u001b[0m         \u001b[0;32melse\u001b[0m\u001b[0;34m:\u001b[0m\u001b[0;34m\u001b[0m\u001b[0;34m\u001b[0m\u001b[0m\n\u001b[1;32m     75\u001b[0m             \u001b[0;32mraise\u001b[0m \u001b[0mValueError\u001b[0m\u001b[0;34m(\u001b[0m\u001b[0;34m'Value of handling_NaNs is not acceptable'\u001b[0m\u001b[0;34m)\u001b[0m\u001b[0;34m\u001b[0m\u001b[0;34m\u001b[0m\u001b[0m\n",
      "\u001b[0;32m~/yaroslav/education/epfl/CS-433/projects/project1/scripts/preprocessing.py\u001b[0m in \u001b[0;36mpredict_Nans\u001b[0;34m(self, data_, lr, lambda_, batch_size, epochs, train, models, momentum)\u001b[0m\n\u001b[1;32m    126\u001b[0m                 \u001b[0mmodel\u001b[0m\u001b[0;34m.\u001b[0m\u001b[0madd_layer\u001b[0m\u001b[0;34m(\u001b[0m\u001b[0;36m1\u001b[0m\u001b[0;34m)\u001b[0m\u001b[0;34m\u001b[0m\u001b[0;34m\u001b[0m\u001b[0m\n\u001b[1;32m    127\u001b[0m \u001b[0;34m\u001b[0m\u001b[0m\n\u001b[0;32m--> 128\u001b[0;31m                 \u001b[0mmodel\u001b[0m\u001b[0;34m.\u001b[0m\u001b[0mtrain\u001b[0m\u001b[0;34m(\u001b[0m\u001b[0mtrain_features\u001b[0m\u001b[0;34m,\u001b[0m \u001b[0mtrain_labels\u001b[0m\u001b[0;34m,\u001b[0m \u001b[0mlr\u001b[0m \u001b[0;34m=\u001b[0m \u001b[0mlr\u001b[0m\u001b[0;34m,\u001b[0m \u001b[0mlambda_\u001b[0m\u001b[0;34m=\u001b[0m\u001b[0mlambda_\u001b[0m\u001b[0;34m,\u001b[0m \u001b[0mbatch_size\u001b[0m\u001b[0;34m=\u001b[0m\u001b[0mbatch_size\u001b[0m\u001b[0;34m,\u001b[0m \u001b[0mepochs\u001b[0m\u001b[0;34m=\u001b[0m\u001b[0mepochs\u001b[0m\u001b[0;34m,\u001b[0m \u001b[0mverbose\u001b[0m\u001b[0;34m=\u001b[0m\u001b[0;36m1\u001b[0m\u001b[0;34m,\u001b[0m \u001b[0mloss_fun\u001b[0m\u001b[0;34m=\u001b[0m\u001b[0;34m'l2'\u001b[0m\u001b[0;34m,\u001b[0m \u001b[0mmomentum\u001b[0m\u001b[0;34m=\u001b[0m\u001b[0mmomentum\u001b[0m\u001b[0;34m)\u001b[0m\u001b[0;34m\u001b[0m\u001b[0;34m\u001b[0m\u001b[0m\n\u001b[0m\u001b[1;32m    129\u001b[0m             \u001b[0;32melse\u001b[0m\u001b[0;34m:\u001b[0m\u001b[0;34m\u001b[0m\u001b[0;34m\u001b[0m\u001b[0m\n\u001b[1;32m    130\u001b[0m                 \u001b[0mmodel\u001b[0m \u001b[0;34m=\u001b[0m \u001b[0mmodels\u001b[0m\u001b[0;34m[\u001b[0m\u001b[0mj\u001b[0m\u001b[0;34m]\u001b[0m\u001b[0;34m\u001b[0m\u001b[0;34m\u001b[0m\u001b[0m\n",
      "\u001b[0;32m~/yaroslav/education/epfl/CS-433/projects/project1/scripts/nn_model.py\u001b[0m in \u001b[0;36mtrain\u001b[0;34m(self, x, y, lr, lambda_, batch_size, epochs, verbose, loss_fun, momentum)\u001b[0m\n\u001b[1;32m    100\u001b[0m         \u001b[0mdecay\u001b[0m \u001b[0;34m=\u001b[0m \u001b[0;36m1\u001b[0m\u001b[0;34m\u001b[0m\u001b[0;34m\u001b[0m\u001b[0m\n\u001b[1;32m    101\u001b[0m         \u001b[0;32mfor\u001b[0m \u001b[0mepoch\u001b[0m \u001b[0;32min\u001b[0m \u001b[0mrange\u001b[0m\u001b[0;34m(\u001b[0m\u001b[0;36m1\u001b[0m\u001b[0;34m,\u001b[0m \u001b[0mepochs\u001b[0m\u001b[0;34m+\u001b[0m\u001b[0;36m1\u001b[0m\u001b[0;34m)\u001b[0m\u001b[0;34m:\u001b[0m\u001b[0;34m\u001b[0m\u001b[0;34m\u001b[0m\u001b[0m\n\u001b[0;32m--> 102\u001b[0;31m             \u001b[0mpermut\u001b[0m \u001b[0;34m=\u001b[0m \u001b[0mnp\u001b[0m\u001b[0;34m.\u001b[0m\u001b[0mrandom\u001b[0m\u001b[0;34m.\u001b[0m\u001b[0mpermutation\u001b[0m\u001b[0;34m(\u001b[0m\u001b[0mindx\u001b[0m\u001b[0;34m)\u001b[0m\u001b[0;34m\u001b[0m\u001b[0;34m\u001b[0m\u001b[0m\n\u001b[0m\u001b[1;32m    103\u001b[0m             \u001b[0mx_shuffled\u001b[0m \u001b[0;34m=\u001b[0m \u001b[0mx\u001b[0m\u001b[0;34m[\u001b[0m\u001b[0mpermut\u001b[0m\u001b[0;34m,\u001b[0m \u001b[0;34m...\u001b[0m\u001b[0;34m]\u001b[0m\u001b[0;34m\u001b[0m\u001b[0;34m\u001b[0m\u001b[0m\n\u001b[1;32m    104\u001b[0m             \u001b[0my_shuffled\u001b[0m \u001b[0;34m=\u001b[0m \u001b[0my\u001b[0m\u001b[0;34m[\u001b[0m\u001b[0mpermut\u001b[0m\u001b[0;34m,\u001b[0m \u001b[0;34m...\u001b[0m\u001b[0;34m]\u001b[0m\u001b[0;34m\u001b[0m\u001b[0;34m\u001b[0m\u001b[0m\n",
      "\u001b[0;31mKeyboardInterrupt\u001b[0m: "
     ]
    }
   ],
   "source": [
    "preprocessing = Preprocessing(\n",
    "    use_transformations=use_transformation,\n",
    "    handling_outliers=handling_outlier,\n",
    ")\n",
    "train_data, models = preprocessing.preprocess(\n",
    "    x_train,\n",
    "    lr=lr,\n",
    "    lambda_=lambda_,\n",
    "    batch_size=batch_size,\n",
    "    epochs=epochs,\n",
    "    degrees=degree\n",
    ")\n",
    "\n",
    "model = NNModel(train_data.shape[1])\n",
    "model.add_layer(units=units, activation=activation)\n",
    "model.train(train_data, y_train, lr=lr,\n",
    "            lambda_=lambda_,\n",
    "            batch_size=batch_size, epochs=epochs,\n",
    "            verbose=1)\n",
    "\n",
    "preprocessing = Preprocessing(\n",
    "    use_transformations=use_transformation,\n",
    "    handling_outliers = handling_outlier,\n",
    ")\n",
    "val_data, _ = preprocessing.preprocess(\n",
    "    x_val,\n",
    "    train=False,\n",
    "    models=models,\n",
    "    degrees=degree\n",
    ")\n",
    "\n",
    "y_pred = model.predict(val_data)\n",
    "y_pred = y_pred > 0.5\n",
    "y_pred = y_pred.squeeze()\n",
    "accuracy = (y_pred==y_val).mean()\n",
    "print(\"Validation arruracy is\", accuracy)"
   ]
  },
  {
   "cell_type": "code",
   "execution_count": null,
   "metadata": {},
   "outputs": [],
   "source": [
    "pred = model.predict(train_data)"
   ]
  },
  {
   "cell_type": "code",
   "execution_count": null,
   "metadata": {},
   "outputs": [],
   "source": [
    "res = pred>0.5"
   ]
  },
  {
   "cell_type": "code",
   "execution_count": null,
   "metadata": {},
   "outputs": [],
   "source": [
    "res = res.squeeze()"
   ]
  },
  {
   "cell_type": "code",
   "execution_count": null,
   "metadata": {},
   "outputs": [],
   "source": [
    "pred = np.zeros(y_train.shape)"
   ]
  },
  {
   "cell_type": "code",
   "execution_count": null,
   "metadata": {},
   "outputs": [],
   "source": [
    "pred[res] = 1"
   ]
  },
  {
   "cell_type": "code",
   "execution_count": null,
   "metadata": {},
   "outputs": [],
   "source": [
    "np.mean(pred==y_train)"
   ]
  },
  {
   "cell_type": "markdown",
   "metadata": {},
   "source": [
    "## Generate predictions and save ouput in csv format for submission:"
   ]
  },
  {
   "cell_type": "code",
   "execution_count": 14,
   "metadata": {},
   "outputs": [],
   "source": [
    "DATA_TEST_PATH = DATA_TRAIN_PATH = os.path.join(os.getcwd(), '../data/test.csv')\n",
    "_, tX_test, ids_test = load_csv_data(DATA_TEST_PATH)"
   ]
  },
  {
   "cell_type": "code",
   "execution_count": 15,
   "metadata": {},
   "outputs": [
    {
     "name": "stdout",
     "output_type": "stream",
     "text": [
      "Preprocesing started!\n",
      "\n",
      "Preprocessing ended\n",
      "\n"
     ]
    }
   ],
   "source": [
    "preprocessing = Preprocessing(\n",
    "    use_transformations=use_transformation,\n",
    "    handling_outliers = handling_outlier,\n",
    ")\n",
    "test_data, _ = preprocessing.preprocess(\n",
    "    tX_test,\n",
    "    train=False,\n",
    "    models=models,\n",
    "    degrees=degree\n",
    ")"
   ]
  },
  {
   "cell_type": "code",
   "execution_count": 16,
   "metadata": {},
   "outputs": [],
   "source": [
    "OUTPUT_PATH = 'prediction.csv' # TODO: fill in desired name of output file for submission\n",
    "y_pred = model.predict(test_data)\n",
    "res = y_pred>0.5\n",
    "res = res.squeeze()\n",
    "pred = -np.ones(res.shape)\n",
    "pred[res] = 1\n",
    "create_csv_submission(ids_test, pred, OUTPUT_PATH)"
   ]
  },
  {
   "cell_type": "code",
   "execution_count": null,
   "metadata": {},
   "outputs": [],
   "source": []
  }
 ],
 "metadata": {
  "anaconda-cloud": {},
  "kernelspec": {
   "display_name": "Python 3",
   "language": "python",
   "name": "python3"
  },
  "language_info": {
   "codemirror_mode": {
    "name": "ipython",
    "version": 3
   },
   "file_extension": ".py",
   "mimetype": "text/x-python",
   "name": "python",
   "nbconvert_exporter": "python",
   "pygments_lexer": "ipython3",
   "version": "3.7.7"
  }
 },
 "nbformat": 4,
 "nbformat_minor": 1
}
