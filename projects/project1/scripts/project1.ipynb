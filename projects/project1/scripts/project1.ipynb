{
 "cells": [
  {
   "cell_type": "code",
   "execution_count": 1,
   "metadata": {},
   "outputs": [],
   "source": [
    "# Useful starting lines\n",
    "%matplotlib inline\n",
    "import numpy as np\n",
    "import matplotlib.pyplot as plt\n",
    "import os\n",
    "import pandas as pd\n",
    "%load_ext autoreload\n",
    "%autoreload 2"
   ]
  },
  {
   "cell_type": "markdown",
   "metadata": {},
   "source": [
    "## Load the training data into feature matrix, class labels, and event ids:"
   ]
  },
  {
   "cell_type": "code",
   "execution_count": 2,
   "metadata": {},
   "outputs": [],
   "source": [
    "from proj1_helpers import *\n",
    "DATA_TRAIN_PATH = os.path.join(os.getcwd(), '../data/train.csv')\n",
    "y, tX, ids = load_csv_data(DATA_TRAIN_PATH)"
   ]
  },
  {
   "cell_type": "markdown",
   "metadata": {},
   "source": [
    "## Our CRAZY machine learning thing :) ..."
   ]
  },
  {
   "cell_type": "code",
   "execution_count": 3,
   "metadata": {},
   "outputs": [],
   "source": [
    "from nn_model import NNModel\n",
    "from preprocessing import *\n",
    "from nn_model import *\n",
    "import pandas as pd"
   ]
  },
  {
   "cell_type": "code",
   "execution_count": 4,
   "metadata": {},
   "outputs": [],
   "source": [
    "preprocessing = Preprocessing(use_transformations=False)\n",
    "y[y==-1] = 0\n",
    "y = y.astype(np.int)\n",
    "preprocessing.replace_outliers_by_nan(tX)\n",
    "num_nan_in_row = np.isnan(tX).sum(axis=1)\n",
    "mask = (y==0) & (num_nan_in_row>8)\n",
    "y = y[~mask]\n",
    "tX = tX[~mask]\n",
    "num_nan_in_row = np.isnan(tX).sum(axis=1)"
   ]
  },
  {
   "cell_type": "code",
   "execution_count": 5,
   "metadata": {},
   "outputs": [
    {
     "name": "stdout",
     "output_type": "stream",
     "text": [
      "{}\n",
      "Training started\n",
      ">Epoch #1:\t[####################]; Loss: 9.93690107423754Training ended\n",
      "Training started\n",
      ">Epoch #1:\t[####################]; Loss: 9.813370632083137Training ended\n",
      "Training started\n",
      ">Epoch #1:\t[####################]; Loss: 12.472599495029652Training ended\n",
      "Training started\n",
      ">Epoch #1:\t[####################]; Loss: 17.419911204053044Training ended\n",
      "Training started\n",
      ">Epoch #1:\t[####################]; Loss: 10.077063881057654Training ended\n",
      "Training started\n",
      ">Epoch #1:\t[####################]; Loss: 14.395445381182087Training ended\n",
      "Training started\n",
      ">Epoch #1:\t[####################]; Loss: 6.3033436638219715Training ended\n",
      "Training started\n",
      ">Epoch #1:\t[####################]; Loss: 10.304097026407227Training ended\n",
      "Training started\n",
      ">Epoch #1:\t[####################]; Loss: 7.925523295606021Training ended\n",
      "Training started\n",
      ">Epoch #1:\t[####################]; Loss: 12.568345735798486Training ended\n",
      "Training started\n",
      ">Epoch #1:\t[####################]; Loss: 14.158763975604039Training ended\n",
      "Training started\n",
      ">Epoch #1:\t[####################]; Loss: 10.330033071811181Training ended\n"
     ]
    }
   ],
   "source": [
    "lr = 0.01\n",
    "lambda_= 2\n",
    "batch_size = 128\n",
    "epochs = 1\n",
    "train_data, models = preprocessing.preprocess(tX, lr=lr, lambda_=lambda_, batch_size=batch_size, epochs=epochs)"
   ]
  },
  {
   "cell_type": "code",
   "execution_count": 6,
   "metadata": {},
   "outputs": [],
   "source": [
    "def hyperparamters_tunning(x, y, lrs, lambdas, model_parameters):\n",
    "    for lr in lrs:\n",
    "        for lamda_ in lambdas:\n",
    "            model = NNModel(x.shape[1], loss='logistic_reg')\n",
    "            for layer_parameters in model_parameters:\n",
    "                units = layer_parameters['units']\n",
    "                activation = layer_parameters['activation']\n",
    "                if activation not in [None, 'softmax', 'sigmoid']:\n",
    "                    raise Exception(\"Can't apply activation fuction\")\n",
    "                \n",
    "                model.add_layer(units=units, activation=activation)\n",
    "                model.train(x, y, lr=lr, lambda_=lambda_, batch_size=64, epochs=100, verbose=1)"
   ]
  },
  {
   "cell_type": "code",
   "execution_count": 7,
   "metadata": {},
   "outputs": [],
   "source": [
    "model = NNModel(train_data.shape[1])\n",
    "model.add_layer(1, activation='sigmoid')"
   ]
  },
  {
   "cell_type": "code",
   "execution_count": 8,
   "metadata": {},
   "outputs": [
    {
     "name": "stdout",
     "output_type": "stream",
     "text": [
      "Training started\n",
      ">Epoch #10:\t[####################]; Loss: 0.6423687486468742Training ended\n"
     ]
    }
   ],
   "source": [
    "lr = 0.01\n",
    "lambda_= 10\n",
    "batch_size = 128\n",
    "epochs = 10\n",
    "verbose = 1\n",
    "model.train(train_data, y, lr=0.01, lambda_=lambda_, batch_size=batch_size, epochs=epochs, verbose=verbose, loss_fun='logistic_reg')"
   ]
  },
  {
   "cell_type": "code",
   "execution_count": 9,
   "metadata": {},
   "outputs": [],
   "source": [
    "pred = model.predict(train_data)"
   ]
  },
  {
   "cell_type": "code",
   "execution_count": 10,
   "metadata": {},
   "outputs": [],
   "source": [
    "res = pred>0.5"
   ]
  },
  {
   "cell_type": "code",
   "execution_count": 11,
   "metadata": {},
   "outputs": [],
   "source": [
    "res = res.squeeze()"
   ]
  },
  {
   "cell_type": "code",
   "execution_count": 12,
   "metadata": {},
   "outputs": [],
   "source": [
    "pred = np.zeros(y.shape)"
   ]
  },
  {
   "cell_type": "code",
   "execution_count": 13,
   "metadata": {},
   "outputs": [],
   "source": [
    "pred[res] = 1"
   ]
  },
  {
   "cell_type": "code",
   "execution_count": 14,
   "metadata": {},
   "outputs": [
    {
     "data": {
      "text/plain": [
       "0.637001008093223"
      ]
     },
     "execution_count": 14,
     "metadata": {},
     "output_type": "execute_result"
    }
   ],
   "source": [
    "np.mean(pred==y)"
   ]
  },
  {
   "cell_type": "markdown",
   "metadata": {},
   "source": [
    "## Generate predictions and save ouput in csv format for submission:"
   ]
  },
  {
   "cell_type": "code",
   "execution_count": 15,
   "metadata": {},
   "outputs": [],
   "source": [
    "DATA_TEST_PATH = DATA_TRAIN_PATH = os.path.join(os.getcwd(), '../data/test.csv')\n",
    "_, tX_test, ids_test = load_csv_data(DATA_TEST_PATH)"
   ]
  },
  {
   "cell_type": "code",
   "execution_count": 18,
   "metadata": {},
   "outputs": [
    {
     "name": "stdout",
     "output_type": "stream",
     "text": [
      "{17: <nn_model.NNModel object at 0x7f129f052190>, 44: <nn_model.NNModel object at 0x7f12a11a9690>, 48: <nn_model.NNModel object at 0x7f129f03abd0>, 49: <nn_model.NNModel object at 0x7f12a1287950>, 50: <nn_model.NNModel object at 0x7f12a0ad0fd0>, 56: <nn_model.NNModel object at 0x7f12a11ad450>, 66: <nn_model.NNModel object at 0x7f12b88e0510>, 67: <nn_model.NNModel object at 0x7f12c8212390>, 68: <nn_model.NNModel object at 0x7f129e0b9b90>, 69: <nn_model.NNModel object at 0x7f129e0b9e50>, 70: <nn_model.NNModel object at 0x7f12b879df10>, 71: <nn_model.NNModel object at 0x7f129e0b9fd0>}\n"
     ]
    }
   ],
   "source": [
    "preprocessing = Preprocessing()\n",
    "lr = 0.01\n",
    "lambda_= 2\n",
    "batch_size = 128\n",
    "epochs = 100\n",
    "test_data, models = preprocessing.preprocess(tX_test, lr=lr, lambda_=lambda_, batch_size=batch_size, epochs=epochs, train=False, models=models)"
   ]
  },
  {
   "cell_type": "code",
   "execution_count": 22,
   "metadata": {},
   "outputs": [],
   "source": [
    "OUTPUT_PATH = 'prediction' # TODO: fill in desired name of output file for submission\n",
    "y_pred = model.predict(test_data)\n",
    "res = y_pred>0.5\n",
    "res = res.squeeze()\n",
    "pred = -np.ones(res.shape)\n",
    "pred[res] = 1\n",
    "create_csv_submission(ids_test, pred, OUTPUT_PATH)"
   ]
  },
  {
   "cell_type": "code",
   "execution_count": null,
   "metadata": {},
   "outputs": [],
   "source": []
  }
 ],
 "metadata": {
  "anaconda-cloud": {},
  "kernelspec": {
   "display_name": "Python 3",
   "language": "python",
   "name": "python3"
  },
  "language_info": {
   "codemirror_mode": {
    "name": "ipython",
    "version": 3
   },
   "file_extension": ".py",
   "mimetype": "text/x-python",
   "name": "python",
   "nbconvert_exporter": "python",
   "pygments_lexer": "ipython3",
   "version": "3.7.7"
  }
 },
 "nbformat": 4,
 "nbformat_minor": 1
}
