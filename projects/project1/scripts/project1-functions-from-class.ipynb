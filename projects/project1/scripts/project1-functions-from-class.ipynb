{
 "cells": [
  {
   "cell_type": "code",
   "execution_count": 1,
   "metadata": {},
   "outputs": [],
   "source": [
    "# Useful starting lines\n",
    "%matplotlib inline\n",
    "import numpy as np\n",
    "import matplotlib.pyplot as plt\n",
    "import os\n",
    "import pandas as pd\n",
    "%load_ext autoreload\n",
    "%autoreload 2"
   ]
  },
  {
   "cell_type": "markdown",
   "metadata": {},
   "source": [
    "## Load the training data into feature matrix, class labels, and event ids:"
   ]
  },
  {
   "cell_type": "code",
   "execution_count": 2,
   "metadata": {},
   "outputs": [],
   "source": [
    "from proj1_helpers import *\n",
    "DATA_TRAIN_PATH = os.path.join(os.getcwd(), '../data/train.csv')\n",
    "y, tX, ids = load_csv_data(DATA_TRAIN_PATH)"
   ]
  },
  {
   "cell_type": "markdown",
   "metadata": {},
   "source": [
    "## Our CRAZY machine learning thing :) ..."
   ]
  },
  {
   "cell_type": "code",
   "execution_count": 3,
   "metadata": {},
   "outputs": [],
   "source": [
    "from preprocessing import *\n",
    "from logistic_regression import *\n",
    "import pandas as pd"
   ]
  },
  {
   "cell_type": "code",
   "execution_count": 4,
   "metadata": {},
   "outputs": [],
   "source": [
    "def cross_validation(tX, y, k=5, \n",
    "                     lr=0.01, lambda_=10, \n",
    "                     max_iter=5000, batch_size=128):\n",
    "    k_folds = np.array_split(np.arange(y.shape[0]), axis=0, indices_or_sections=k)\n",
    "    accuracy = np.zeros(k)\n",
    "    i = 0\n",
    "    print(\"Cross-validation started!\")\n",
    "    for k_fold in k_folds:\n",
    "        train_mask = ~np.isin(np.arange(y.shape[0]), k_fold)\n",
    "        w_init = np.random.randn(1, tX.shape[1]+1)\n",
    "        \n",
    "        x_train = tX[train_mask]\n",
    "        y_train = y[train_mask]\n",
    "        x_val = tX[~train_mask]\n",
    "        y_val = y[~train_mask]\n",
    "        batch_size_ = min(batch_size, x_train.shape[0])\n",
    "        (w, loss) = logistic_regression_reg(y=y_train, tX=x_train,\n",
    "                                          initial_w=w_init,\n",
    "                                          max_iter=max_iter, lambda_=lambda_,\n",
    "                                          lr=lr, batch_size=batch_size_)\n",
    "        y_pred = logistic_pred(x_val, w)\n",
    "        accuracy[i] = (y_pred==y_val).mean()\n",
    "        i += 1\n",
    "    accuracy_avg = accuracy.mean()\n",
    "    return accuracy_avg\n",
    "        \n",
    "\n",
    "def hyperparamters_tunning(tX, y,\n",
    "                           use_transformations,\n",
    "                           handling_outliers,\n",
    "                           use_poly_augmentation,\n",
    "                           max_degrees,\n",
    "                           lrs, lambdas, batch_size, max_iter, k=5):\n",
    "    best = {\n",
    "        \"transformation\": None,\n",
    "        \"handling_outlier\": None,\n",
    "        \"max_degree\": None,\n",
    "        \"accuracy\": 0,\n",
    "        \"lr\": None,\n",
    "        \"lambda\": None,\n",
    "    }\n",
    "    for use_transformation in use_transformations:\n",
    "        for handling_outlier in handling_outliers:\n",
    "            for max_degree in max_degrees:\n",
    "                for lr in lrs:\n",
    "                    for lambda_ in lambdas:\n",
    "                        preprocessing = Preprocessing(\n",
    "                            use_transformations=use_transformation,\n",
    "                            handling_outliers=handling_outlier,\n",
    "                            use_poly_augmentation=use_poly_augmentation,\n",
    "                            max_degree=max_degree\n",
    "                        )\n",
    "                        \n",
    "                        tX_preprocessed = preprocessing.preprocess(data_=tX)\n",
    "                        accuracy = cross_validation(tX_preprocessed, y,\n",
    "                                                    k=k, lr=lr, lambda_=lambda_,\n",
    "                                                    max_iter=max_iter,\n",
    "                                                    batch_size=batch_size)\n",
    "                        if best['accuracy'] < accuracy:\n",
    "                            print(\"Best is updated with accuracy:\", accuracy)\n",
    "                            best[\"transformation\"] = use_transformation\n",
    "                            best[\"handling_outlier\"] = handling_outlier\n",
    "                            best[\"max_degree\"] = max_degree\n",
    "                            best[\"accuracy\"] = accuracy\n",
    "                            best[\"lambda\"] = lambda_\n",
    "                            best[\"lr\"] = lr\n",
    "    return best"
   ]
  },
  {
   "cell_type": "code",
   "execution_count": 5,
   "metadata": {},
   "outputs": [],
   "source": [
    "preprocessing = Preprocessing()\n",
    "y[y==-1] = 0\n",
    "y = y.astype(np.int)\n",
    "preprocessing.replace_outliers_by_nan(tX)\n",
    "\n",
    "#Delete rows from tX and y, which has more than 8 nan values in tX and 0 label in y\n",
    "num_nan_in_row = np.isnan(tX).sum(axis=1)\n",
    "mask = (y==0) & (num_nan_in_row>8)\n",
    "y = y[~mask]\n",
    "tX = tX[~mask]\n",
    "\n",
    "shuffle = np.arange(y.shape[0])\n",
    "np.random.shuffle(shuffle)\n",
    "y = y[shuffle]\n",
    "tX = tX[shuffle]"
   ]
  },
  {
   "cell_type": "code",
   "execution_count": 10,
   "metadata": {},
   "outputs": [],
   "source": [
    "use_transformations = [False]\n",
    "handling_outliers = ['fill_mean', 'remove']\n",
    "lrs = [0.1]\n",
    "lambdas = [0]\n",
    "max_degrees = [3, 5]\n",
    "use_poly_augmentation = True\n",
    "\n",
    "batch_size = 64\n",
    "max_iter = 10000\n",
    "k = 5"
   ]
  },
  {
   "cell_type": "code",
   "execution_count": null,
   "metadata": {},
   "outputs": [
    {
     "name": "stdout",
     "output_type": "stream",
     "text": [
      "Cross-validation started!\n",
      ">Iter #9679:\t[################### ]; Loss: 80.72686959128592, 0.11"
     ]
    }
   ],
   "source": [
    "best = hyperparamters_tunning(tX, y,\n",
    "                              use_transformations=use_transformations,\n",
    "                              handling_outliers=handling_outliers,\n",
    "                              use_poly_augmentation=use_poly_augmentation,\n",
    "                              max_degrees=max_degrees,\n",
    "                              lrs=lrs, lambdas=lambdas,\n",
    "                              batch_size=batch_size,\n",
    "                              max_iter=max_iter, k=k)"
   ]
  },
  {
   "cell_type": "code",
   "execution_count": 8,
   "metadata": {},
   "outputs": [],
   "source": [
    "use_transformation = best[\"transformation\"]\n",
    "handling_outlier = best[\"handling_outlier\"]\n",
    "max_degree = best[\"max_degree\"]\n",
    "accuracy = best[\"accuracy\"]\n",
    "lambda_ = best[\"lambda\"]\n",
    "lr = best[\"lr\"]"
   ]
  },
  {
   "cell_type": "code",
   "execution_count": 9,
   "metadata": {},
   "outputs": [
    {
     "name": "stdout",
     "output_type": "stream",
     "text": [
      ">Iter #99:\t[################### ]; Loss: 93.15705613524557, 0.1"
     ]
    },
    {
     "data": {
      "text/plain": [
       "0.5954299773890955"
      ]
     },
     "execution_count": 9,
     "metadata": {},
     "output_type": "execute_result"
    }
   ],
   "source": [
    "preprocessing = Preprocessing(\n",
    "                            use_transformations=use_transformation,\n",
    "                            handling_outliers=handling_outlier,\n",
    "                            use_poly_augmentation=use_poly_augmentation,\n",
    "                            max_degree=max_degree\n",
    "                        )\n",
    "                        \n",
    "tX_preprocessed = preprocessing.preprocess(data_=tX)\n",
    "w_init = np.random.randn(1, tX_preprocessed.shape[1]+1)\n",
    "w, loss = logistic_regression_reg(y=y, tX=tX_preprocessed,\n",
    "                                  initial_w=w_init,\n",
    "                                  max_iter=max_iter, lambda_=lambda_,\n",
    "                                  lr=lr, batch_size=batch_size)\n",
    "y_pred = logistic_pred(tX_preprocessed, w)\n",
    "(y_pred==y).mean()"
   ]
  },
  {
   "cell_type": "markdown",
   "metadata": {},
   "source": [
    "## Generate predictions and save ouput in csv format for submission:"
   ]
  },
  {
   "cell_type": "code",
   "execution_count": null,
   "metadata": {},
   "outputs": [],
   "source": [
    "DATA_TEST_PATH = DATA_TRAIN_PATH = os.path.join(os.getcwd(), '../data/test.csv')\n",
    "_, tX_test, ids_test = load_csv_data(DATA_TEST_PATH)"
   ]
  },
  {
   "cell_type": "code",
   "execution_count": null,
   "metadata": {},
   "outputs": [],
   "source": [
    "preprocessing = Preprocessing(\n",
    "    use_transformations=use_transformation,\n",
    "    handling_outliers = handling_outlier,\n",
    ")\n",
    "test_data, _ = preprocessing.preprocess(\n",
    "    tX_test,\n",
    "    train=False,\n",
    "    models=models,\n",
    "    degrees=degree\n",
    ")"
   ]
  },
  {
   "cell_type": "code",
   "execution_count": null,
   "metadata": {},
   "outputs": [],
   "source": [
    "OUTPUT_PATH = 'prediction.csv' # TODO: fill in desired name of output file for submission\n",
    "y_pred = model.predict(test_data)\n",
    "res = y_pred>0.5\n",
    "res = res.squeeze()\n",
    "pred = -np.ones(res.shape)\n",
    "pred[res] = 1\n",
    "create_csv_submission(ids_test, pred, OUTPUT_PATH)"
   ]
  },
  {
   "cell_type": "code",
   "execution_count": null,
   "metadata": {},
   "outputs": [],
   "source": []
  }
 ],
 "metadata": {
  "anaconda-cloud": {},
  "kernelspec": {
   "display_name": "Python 3",
   "language": "python",
   "name": "python3"
  },
  "language_info": {
   "codemirror_mode": {
    "name": "ipython",
    "version": 3
   },
   "file_extension": ".py",
   "mimetype": "text/x-python",
   "name": "python",
   "nbconvert_exporter": "python",
   "pygments_lexer": "ipython3",
   "version": "3.7.7"
  }
 },
 "nbformat": 4,
 "nbformat_minor": 1
}
