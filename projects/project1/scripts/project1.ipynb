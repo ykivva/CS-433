{
 "cells": [
  {
   "cell_type": "code",
   "execution_count": 49,
   "metadata": {},
   "outputs": [
    {
     "name": "stdout",
     "output_type": "stream",
     "text": [
      "The autoreload extension is already loaded. To reload it, use:\n",
      "  %reload_ext autoreload\n"
     ]
    }
   ],
   "source": [
    "# Useful starting lines\n",
    "%matplotlib inline\n",
    "import numpy as np\n",
    "import matplotlib.pyplot as plt\n",
    "import os\n",
    "import pandas as pd\n",
    "%load_ext autoreload\n",
    "%autoreload 2"
   ]
  },
  {
   "cell_type": "markdown",
   "metadata": {},
   "source": [
    "## Load the training data into feature matrix, class labels, and event ids:"
   ]
  },
  {
   "cell_type": "code",
   "execution_count": 64,
   "metadata": {},
   "outputs": [],
   "source": [
    "from proj1_helpers import *\n",
    "DATA_TRAIN_PATH = os.path.join(os.getcwd(), '../data/train.csv')\n",
    "y, tX, ids = load_csv_data(DATA_TRAIN_PATH)"
   ]
  },
  {
   "cell_type": "markdown",
   "metadata": {},
   "source": [
    "## Our CRAZY machine learning thing :) ..."
   ]
  },
  {
   "cell_type": "code",
   "execution_count": 51,
   "metadata": {},
   "outputs": [],
   "source": [
    "from nn_model import NNModel\n",
    "from preprocessing import *\n",
    "from nn_model import *"
   ]
  },
  {
   "cell_type": "code",
   "execution_count": 65,
   "metadata": {},
   "outputs": [],
   "source": [
    "def convert_labels(y):\n",
    "    y[y==-1] = 0\n",
    "    y = y.astype(np.int)\n",
    "    return y\n",
    "\n",
    "def make_balanced(y, tX):\n",
    "    pos_zero = np.argwhere(y==0).squeeze()\n",
    "    num_delete = (y==0).sum() - (y==1).sum()\n",
    "    pos_delete = np.random.choice(pos_zero, replace=False, size=num_delete)\n",
    "    y_balanced = np.delete(y, pos_delete)\n",
    "    x_balanced = np.delete(tX, pos_delete, axis=0)\n",
    "    return (x_balanced, y_balanced)\n",
    "\n",
    "def shuffle_dataset(x_train, y_train):\n",
    "    shuffle = np.arange(y_train.shape[0])\n",
    "    np.random.shuffle(shuffle)\n",
    "    y_train = y_train[shuffle]\n",
    "    x_train = x_train[shuffle]\n",
    "    return (x_train, y_train)"
   ]
  },
  {
   "cell_type": "code",
   "execution_count": 66,
   "metadata": {},
   "outputs": [
    {
     "name": "stdout",
     "output_type": "stream",
     "text": [
      "0 class instances: 164333, 1 class instances: 85667\n",
      "0 class instances: 85667, 1 class instances: 85667\n"
     ]
    }
   ],
   "source": [
    "y = convert_labels(y)\n",
    "\n",
    "print('0 class instances: {}, 1 class instances: {}'.format((y==0).sum(), (y==1).sum()))\n",
    "\n",
    "x_train, y_train = make_balanced(y, tX)\n",
    "\n",
    "print('0 class instances: {}, 1 class instances: {}'.format((y_train==0).sum(), (y_train==1).sum()))\n",
    "\n",
    "x_train, y_train = shuffle_dataset(x_train, y_train)"
   ]
  },
  {
   "cell_type": "code",
   "execution_count": 53,
   "metadata": {},
   "outputs": [],
   "source": [
    "def cross_validation(tX, y, k=5, \n",
    "                     lr=0.01, lambda_=10, \n",
    "                     epochs=10, batch_size=128,\n",
    "                     momentum=0.9, verbose=1):\n",
    "    k_folds = np.array_split(np.arange(y.shape[0]), axis=0, indices_or_sections=k)\n",
    "    accuracy = np.zeros(k)\n",
    "    i = 0\n",
    "    print(\"Cross-validation started!\")\n",
    "    for k_fold in k_folds:\n",
    "        train_mask = ~np.isin(np.arange(y.shape[0]), k_fold)\n",
    "        w_init = np.random.randn(1, tX.shape[1]+1)\n",
    "        \n",
    "        x_train = tX[train_mask]\n",
    "        y_train = y[train_mask]\n",
    "        x_val = tX[~train_mask]\n",
    "        y_val = y[~train_mask]\n",
    "        batch_size_ = min(batch_size, x_train.shape[0])\n",
    "        \n",
    "        model = NNModel(x_train.shape[1])\n",
    "        model.add_layer(1)\n",
    "        model.train(x_train, y_train,\n",
    "                    lr=lr, lambda_=lambda_,\n",
    "                    batch_size=batch_size,\n",
    "                    epochs=epochs, verbose=verbose,\n",
    "                    loss_fun='logistic_reg', momentum=momentum)\n",
    "        \n",
    "        y_pred = model.predict(x_val)\n",
    "        y_pred = y_pred > 0\n",
    "        y_pred = y_pred.squeeze()\n",
    "        accuracy[i] = (y_pred==y_val).mean()\n",
    "        i += 1\n",
    "    accuracy_avg = accuracy.mean()\n",
    "    return accuracy_avg\n",
    "        \n",
    "\n",
    "def hyperparamters_tunning(tX, y,\n",
    "                           use_transformations,\n",
    "                           handling_outliers,\n",
    "                           transform_inplace,\n",
    "                           max_degrees,\n",
    "                           pairwise,\n",
    "                           add_exp,\n",
    "                           lrs, lambdas,\n",
    "                           momentum,\n",
    "                           batch_size,\n",
    "                           epochs, k=5):\n",
    "    best = {\n",
    "        \"transformation\": None,\n",
    "        \"handling_outlier\": None,\n",
    "        \"max_degree\": None,\n",
    "        \"accuracy\": 0,\n",
    "        \"lr\": None,\n",
    "        \"lambda\": None,\n",
    "    }\n",
    "    for use_transformation in use_transformations:\n",
    "        for handling_outlier in handling_outliers:\n",
    "            for max_degree in max_degrees:\n",
    "                for lr in lrs:\n",
    "                    for lambda_ in lambdas:\n",
    "                        preprocessing = Preprocessing(\n",
    "                            use_transformations=use_transformation,\n",
    "                            handling_outliers=handling_outlier,\n",
    "                            max_degree=max_degree\n",
    "                        )\n",
    "                        \n",
    "                        tX_preprocessed = preprocessing.preprocess(data_=tX,\n",
    "                                                                   transform_inplace=transform_inplace,\n",
    "                                                                   pairwise=pairwise,\n",
    "                                                                   add_exp=add_exp,\n",
    "                                                                  )\n",
    "                        accuracy = cross_validation(tX_preprocessed, y,\n",
    "                                                    k=k, lr=lr, lambda_=lambda_,\n",
    "                                                    epochs=epochs,\n",
    "                                                    batch_size=batch_size,\n",
    "                                                    momentum=momentum\n",
    "                                                   )\n",
    "                        if best['accuracy'] < accuracy:\n",
    "                            print(\"Best is updated with accuracy:\", accuracy)\n",
    "                            best[\"transformation\"] = use_transformation\n",
    "                            best[\"handling_outlier\"] = handling_outlier\n",
    "                            best[\"max_degree\"] = max_degree\n",
    "                            best[\"accuracy\"] = accuracy\n",
    "                            best[\"lambda\"] = lambda_\n",
    "                            best[\"lr\"] = lr\n",
    "    return best"
   ]
  },
  {
   "cell_type": "code",
   "execution_count": 67,
   "metadata": {},
   "outputs": [
    {
     "name": "stdout",
     "output_type": "stream",
     "text": [
      "Cross-validation started!\n",
      "Training started\n",
      ">Epoch #20:\t[####################]; Loss: 0.39091280887935714\n",
      "Training ended\n",
      "\n",
      "Training started\n",
      ">Epoch #20:\t[####################]; Loss: 0.6345803232417156\n",
      "Training ended\n",
      "\n",
      "Best is updated with accuracy: 0.8275079999999999\n"
     ]
    }
   ],
   "source": [
    "use_transformations = [True]\n",
    "handling_outliers = ['fill_mean']\n",
    "transform_inplace = False\n",
    "max_degrees = [15]\n",
    "pairwise = True\n",
    "add_exp = False\n",
    "lrs = [1]\n",
    "lambdas = [0]\n",
    "batch_size = 64\n",
    "epochs = 20\n",
    "momentum = 0.9\n",
    "\n",
    "best = hyperparamters_tunning(tX, y,\n",
    "                              use_transformations,\n",
    "                              handling_outliers,\n",
    "                              transform_inplace,\n",
    "                              max_degrees,\n",
    "                              pairwise,\n",
    "                              add_exp,\n",
    "                              lrs, lambdas,\n",
    "                              momentum,\n",
    "                              batch_size, epochs, k=2)\n",
    "use_transformation = best[\"transformation\"]\n",
    "handling_outlier = best[\"handling_outlier\"]\n",
    "max_degree = best[\"max_degree\"]\n",
    "accuracy = best[\"accuracy\"]\n",
    "lambda_ = best[\"lambda\"]\n",
    "lr = best[\"lr\"]"
   ]
  },
  {
   "cell_type": "code",
   "execution_count": 84,
   "metadata": {},
   "outputs": [
    {
     "name": "stdout",
     "output_type": "stream",
     "text": [
      "Training started\n",
      ">Epoch #25:\t[####################]; Loss: 0.8412820323923876\n",
      "Training ended\n",
      "\n"
     ]
    }
   ],
   "source": [
    "use_transformation = True\n",
    "handling_outlier = 'fill_mean'\n",
    "transform_inplace = False\n",
    "max_degree = 15\n",
    "pairwise=True\n",
    "lambda_ = 0\n",
    "lr = 1\n",
    "verbose = 1\n",
    "batch_size = 64\n",
    "epochs = 25\n",
    "momentum = 0.9\n",
    "preprocessing = Preprocessing(use_transformations=use_transformation,\n",
    "                              handling_outliers=handling_outlier,\n",
    "                              max_degree=max_degree)\n",
    "                        \n",
    "tX_preprocessed = preprocessing.preprocess(data_=tX, transform_inplace=transform_inplace, pairwise=True)\n",
    "model = NNModel(tX_preprocessed.shape[1])\n",
    "model.add_layer(1)\n",
    "model.train(tX_preprocessed, y,\n",
    "            lr=lr, lambda_=lambda_,\n",
    "            batch_size=batch_size,\n",
    "            epochs=epochs, verbose=verbose,\n",
    "            loss_fun='logistic_reg', momentum=momentum)"
   ]
  },
  {
   "cell_type": "code",
   "execution_count": 85,
   "metadata": {},
   "outputs": [
    {
     "name": "stdout",
     "output_type": "stream",
     "text": [
      "0.828376\n"
     ]
    }
   ],
   "source": [
    "def calculate_accuracy(y, x, model):\n",
    "    y_pred = model.predict(x)\n",
    "    y_pred = y_pred > 0\n",
    "    y_pred = y_pred.squeeze()\n",
    "    accuracy = (y_pred==y).mean()\n",
    "    return accuracy\n",
    "\n",
    "\n",
    "accuracy = calculate_accuracy(y, tX_preprocessed, model)\n",
    "print(accuracy)"
   ]
  },
  {
   "cell_type": "code",
   "execution_count": 86,
   "metadata": {},
   "outputs": [
    {
     "name": "stdout",
     "output_type": "stream",
     "text": [
      "number of total parameters =  1038\n",
      "number of significant parameters = 1029\n",
      "accuracy after setting insignificant parameters to 0 = 0.828368\n"
     ]
    }
   ],
   "source": [
    "#set small weights to zero\n",
    "thrreshold = 0.005\n",
    "print('number of total parameters = ', model.parameters['W1'].shape[1])\n",
    "print('number of significant parameters =', np.sum(np.abs(model.parameters['W1'][0]) >= thrreshold))\n",
    "\n",
    "model.parameters['W1'][np.abs(model.parameters['W1']) < thrreshold] = 0\n",
    "accuracy = calculate_accuracy(y, tX_preprocessed, model)\n",
    "print('accuracy after setting insignificant parameters to 0 =', accuracy)"
   ]
  },
  {
   "cell_type": "code",
   "execution_count": 9,
   "metadata": {},
   "outputs": [
    {
     "name": "stdout",
     "output_type": "stream",
     "text": [
      "use_transformation: True\n",
      "handling_outlier: fill_mean\n",
      "transform_inplace: False\n",
      "max_degree: 2\n",
      "lambda_: 0\n",
      "lr: 1\n",
      "batch_size: 64\n",
      "epochs: 10\n",
      "momentum: 0.9\n",
      "\n"
     ]
    }
   ],
   "source": [
    "print_parameters = (f'use_transformation: {use_transformation}\\n'\n",
    "                    + f'handling_outlier: {handling_outlier}\\n'\n",
    "                    + f'transform_inplace: {transform_inplace}\\n'\n",
    "                    + f'max_degree: {max_degree}\\n'\n",
    "                    + f'lambda_: {lambda_}\\n'\n",
    "                    + f'lr: {lr}\\n'\n",
    "                    + f'batch_size: {batch_size}\\n'\n",
    "                    + f'epochs: {epochs}\\n'\n",
    "                    + f'momentum: {momentum}\\n')\n",
    "print(print_parameters)"
   ]
  },
  {
   "cell_type": "markdown",
   "metadata": {},
   "source": [
    "## Generate predictions and save ouput in csv format for submission:"
   ]
  },
  {
   "cell_type": "code",
   "execution_count": null,
   "metadata": {},
   "outputs": [],
   "source": [
    "DATA_TEST_PATH = DATA_TRAIN_PATH = os.path.join(os.getcwd(), '../data/test.csv')\n",
    "_, tX_test, ids_test = load_csv_data(DATA_TEST_PATH)"
   ]
  },
  {
   "cell_type": "code",
   "execution_count": null,
   "metadata": {},
   "outputs": [],
   "source": [
    "x_test = preprocessing.preprocess(data_=tX_test, transform_inplace=False)\n",
    "\n",
    "OUTPUT_PATH = 'prediction.csv' # TODO: fill in desired name of output file for submission\n",
    "y_pred = model.predict(x_test)\n",
    "res = y_pred>0.5\n",
    "res = res.squeeze()\n",
    "pred = -np.ones(res.shape)\n",
    "pred[res] = 1\n",
    "create_csv_submission(ids_test, pred, OUTPUT_PATH)"
   ]
  },
  {
   "cell_type": "code",
   "execution_count": null,
   "metadata": {},
   "outputs": [],
   "source": []
  }
 ],
 "metadata": {
  "anaconda-cloud": {},
  "kernelspec": {
   "display_name": "Python 3",
   "language": "python",
   "name": "python3"
  },
  "language_info": {
   "codemirror_mode": {
    "name": "ipython",
    "version": 3
   },
   "file_extension": ".py",
   "mimetype": "text/x-python",
   "name": "python",
   "nbconvert_exporter": "python",
   "pygments_lexer": "ipython3",
   "version": "3.7.9"
  }
 },
 "nbformat": 4,
 "nbformat_minor": 4
}
